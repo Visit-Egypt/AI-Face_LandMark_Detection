{
  "nbformat": 4,
  "nbformat_minor": 0,
  "metadata": {
    "colab": {
      "name": "Face LandMark.ipynb",
      "provenance": []
    },
    "kernelspec": {
      "name": "python3",
      "display_name": "Python 3"
    },
    "language_info": {
      "name": "python"
    }
  },
  "cells": [
    {
      "cell_type": "code",
      "execution_count": 1,
      "metadata": {
        "id": "1-E6IPSoJ0i4"
      },
      "outputs": [],
      "source": [
        "#import libraries\n",
        "import dlib, cv2\n",
        "import numpy as np"
      ]
    },
    {
      "cell_type": "code",
      "source": [
        "def writeFaceLandmarksToLocalFile(faceLandmarks, fileName):\n",
        "    with open(fileName, 'w') as f:\n",
        "        for p in faceLandmarks.parts():\n",
        "            f.write(\"%s %s\\n\" % (int(p.x), int(p.y)))\n",
        "\n",
        "    f.close()"
      ],
      "metadata": {
        "id": "w5Zi0qiqKI8j"
      },
      "execution_count": 2,
      "outputs": []
    },
    {
      "cell_type": "code",
      "source": [
        "Model_PATH = \"shape_predictor_68_face_landmarks.dat\"  #model path\n",
        "frontalFaceDetector = dlib.get_frontal_face_detector()\n",
        "faceLandmarkDetector = dlib.shape_predictor(Model_PATH)"
      ],
      "metadata": {
        "id": "PNnLGR-NKYGT"
      },
      "execution_count": 3,
      "outputs": []
    },
    {
      "cell_type": "code",
      "source": [
        "#import the image\n",
        "image = \"/content/tt.jpg\" #image path\n",
        "img = cv2.imread(image)\n",
        "imageRGB = cv2.cvtColor(img, cv2.COLOR_BGR2RGB)\n"
      ],
      "metadata": {
        "id": "zX4-BhO7KnaG"
      },
      "execution_count": 4,
      "outputs": []
    },
    {
      "cell_type": "code",
      "source": [
        "faceLandmarksOuput = \"/content/output/image\" # output path\n",
        "allFaces = frontalFaceDetector(imageRGB, 0)\n"
      ],
      "metadata": {
        "id": "EijbpKMKLF2q"
      },
      "execution_count": 5,
      "outputs": []
    },
    {
      "cell_type": "code",
      "source": [
        "def drawPoints(image, faceLandmarks, startpoint, endpoint, isClosed=False):\n",
        "  points = []\n",
        "  for i in range(startpoint, endpoint+1):\n",
        "    point = [faceLandmarks.part(i).x, faceLandmarks.part(i).y]\n",
        "    points.append(point)\n",
        "\n",
        "  points = np.array(points, dtype=np.int32)\n",
        "  cv2.polylines(image, [points], isClosed, (255, 200, 0), thickness=2)\n",
        "\n",
        "\n",
        "def facePoints(image, faceLandmarks):\n",
        "    assert(faceLandmarks.num_parts == 68)\n",
        "    drawPoints(image, faceLandmarks, 0, 16)           # Jaw line\n",
        "    drawPoints(image, faceLandmarks, 17, 21)          # Left eyebrow\n",
        "    drawPoints(image, faceLandmarks, 22, 26)          # Right eyebrow\n",
        "    drawPoints(image, faceLandmarks, 27, 30)          # Nose bridge\n",
        "    drawPoints(image, faceLandmarks, 30, 35, True)    # Lower nose\n",
        "    drawPoints(image, faceLandmarks, 36, 41, True)    # Left eye\n",
        "    drawPoints(image, faceLandmarks, 42, 47, True)    # Right Eye\n",
        "    drawPoints(image, faceLandmarks, 48, 59, True)    # Outer lip\n",
        "    drawPoints(image, faceLandmarks, 60, 67, True)    # Inner lip"
      ],
      "metadata": {
        "id": "UcmWe8SUMqGJ"
      },
      "execution_count": 19,
      "outputs": []
    },
    {
      "cell_type": "code",
      "source": [
        "allFacesLandmark = []\n",
        "k = 0\n",
        "faceRectangleDlib = dlib.rectangle(int(allFaces[k].left()), int(allFaces[k].top()),\n",
        "                                       int(allFaces[k].right()), int(allFaces[k].bottom()))\n",
        "\n",
        "detectedLandmarks = faceLandmarkDetector(imageRGB, faceRectangleDlib)\n",
        "   \n",
        "# Svaing the landmark one by one to the output folder\n",
        "allFacesLandmark.append(detectedLandmarks)\n",
        "\n",
        "# Now finally we put landmarks on face\n",
        "facePoints(img, detectedLandmarks)\n",
        "\n",
        "fileName = faceLandmarksOuput  + \".pts\"\n",
        "\n",
        " # Write landmarks to disk\n",
        "writeFaceLandmarksToLocalFile(detectedLandmarks, fileName)\n",
        "\n"
      ],
      "metadata": {
        "colab": {
          "base_uri": "https://localhost:8080/"
        },
        "id": "HGGJFaOgKUWp",
        "outputId": "154e39ad-3a21-499e-e011-8a2398cbb039"
      },
      "execution_count": 20,
      "outputs": [
        {
          "output_type": "stream",
          "name": "stdout",
          "text": [
            "[[362, 487]]\n",
            "[[362, 487], [362, 514]]\n",
            "[[362, 487], [362, 514], [365, 539]]\n",
            "[[362, 487], [362, 514], [365, 539], [370, 564]]\n",
            "[[362, 487], [362, 514], [365, 539], [370, 564], [379, 587]]\n",
            "[[362, 487], [362, 514], [365, 539], [370, 564], [379, 587], [394, 606]]\n",
            "[[362, 487], [362, 514], [365, 539], [370, 564], [379, 587], [394, 606], [415, 620]]\n",
            "[[362, 487], [362, 514], [365, 539], [370, 564], [379, 587], [394, 606], [415, 620], [436, 632]]\n",
            "[[362, 487], [362, 514], [365, 539], [370, 564], [379, 587], [394, 606], [415, 620], [436, 632], [459, 638]]\n",
            "[[362, 487], [362, 514], [365, 539], [370, 564], [379, 587], [394, 606], [415, 620], [436, 632], [459, 638], [483, 633]]\n",
            "[[362, 487], [362, 514], [365, 539], [370, 564], [379, 587], [394, 606], [415, 620], [436, 632], [459, 638], [483, 633], [505, 622]]\n",
            "[[362, 487], [362, 514], [365, 539], [370, 564], [379, 587], [394, 606], [415, 620], [436, 632], [459, 638], [483, 633], [505, 622], [528, 611]]\n",
            "[[362, 487], [362, 514], [365, 539], [370, 564], [379, 587], [394, 606], [415, 620], [436, 632], [459, 638], [483, 633], [505, 622], [528, 611], [546, 594]]\n",
            "[[362, 487], [362, 514], [365, 539], [370, 564], [379, 587], [394, 606], [415, 620], [436, 632], [459, 638], [483, 633], [505, 622], [528, 611], [546, 594], [556, 572]]\n",
            "[[362, 487], [362, 514], [365, 539], [370, 564], [379, 587], [394, 606], [415, 620], [436, 632], [459, 638], [483, 633], [505, 622], [528, 611], [546, 594], [556, 572], [563, 548]]\n",
            "[[362, 487], [362, 514], [365, 539], [370, 564], [379, 587], [394, 606], [415, 620], [436, 632], [459, 638], [483, 633], [505, 622], [528, 611], [546, 594], [556, 572], [563, 548], [570, 523]]\n",
            "[[362, 487], [362, 514], [365, 539], [370, 564], [379, 587], [394, 606], [415, 620], [436, 632], [459, 638], [483, 633], [505, 622], [528, 611], [546, 594], [556, 572], [563, 548], [570, 523], [575, 496]]\n",
            "[[382, 471]]\n",
            "[[382, 471], [394, 459]]\n",
            "[[382, 471], [394, 459], [412, 456]]\n",
            "[[382, 471], [394, 459], [412, 456], [431, 458]]\n",
            "[[382, 471], [394, 459], [412, 456], [431, 458], [449, 465]]\n",
            "[[487, 466]]\n",
            "[[487, 466], [506, 459]]\n",
            "[[487, 466], [506, 459], [527, 457]]\n",
            "[[487, 466], [506, 459], [527, 457], [546, 463]]\n",
            "[[487, 466], [506, 459], [527, 457], [546, 463], [560, 476]]\n",
            "[[468, 485]]\n",
            "[[468, 485], [467, 503]]\n",
            "[[468, 485], [467, 503], [467, 521]]\n",
            "[[468, 485], [467, 503], [467, 521], [466, 539]]\n",
            "[[466, 539]]\n",
            "[[466, 539], [445, 550]]\n",
            "[[466, 539], [445, 550], [454, 554]]\n",
            "[[466, 539], [445, 550], [454, 554], [464, 557]]\n",
            "[[466, 539], [445, 550], [454, 554], [464, 557], [474, 555]]\n",
            "[[466, 539], [445, 550], [454, 554], [464, 557], [474, 555], [484, 552]]\n",
            "[[400, 487]]\n",
            "[[400, 487], [413, 480]]\n",
            "[[400, 487], [413, 480], [427, 480]]\n",
            "[[400, 487], [413, 480], [427, 480], [440, 490]]\n",
            "[[400, 487], [413, 480], [427, 480], [440, 490], [426, 491]]\n",
            "[[400, 487], [413, 480], [427, 480], [440, 490], [426, 491], [412, 491]]\n",
            "[[497, 491]]\n",
            "[[497, 491], [511, 482]]\n",
            "[[497, 491], [511, 482], [525, 483]]\n",
            "[[497, 491], [511, 482], [525, 483], [538, 490]]\n",
            "[[497, 491], [511, 482], [525, 483], [538, 490], [526, 494]]\n",
            "[[497, 491], [511, 482], [525, 483], [538, 490], [526, 494], [511, 493]]\n",
            "[[424, 579]]\n",
            "[[424, 579], [439, 575]]\n",
            "[[424, 579], [439, 575], [452, 573]]\n",
            "[[424, 579], [439, 575], [452, 573], [462, 575]]\n",
            "[[424, 579], [439, 575], [452, 573], [462, 575], [473, 573]]\n",
            "[[424, 579], [439, 575], [452, 573], [462, 575], [473, 573], [487, 577]]\n",
            "[[424, 579], [439, 575], [452, 573], [462, 575], [473, 573], [487, 577], [501, 581]]\n",
            "[[424, 579], [439, 575], [452, 573], [462, 575], [473, 573], [487, 577], [501, 581], [487, 594]]\n",
            "[[424, 579], [439, 575], [452, 573], [462, 575], [473, 573], [487, 577], [501, 581], [487, 594], [473, 600]]\n",
            "[[424, 579], [439, 575], [452, 573], [462, 575], [473, 573], [487, 577], [501, 581], [487, 594], [473, 600], [461, 601]]\n",
            "[[424, 579], [439, 575], [452, 573], [462, 575], [473, 573], [487, 577], [501, 581], [487, 594], [473, 600], [461, 601], [451, 599]]\n",
            "[[424, 579], [439, 575], [452, 573], [462, 575], [473, 573], [487, 577], [501, 581], [487, 594], [473, 600], [461, 601], [451, 599], [437, 593]]\n",
            "[[431, 580]]\n",
            "[[431, 580], [452, 580]]\n",
            "[[431, 580], [452, 580], [462, 581]]\n",
            "[[431, 580], [452, 580], [462, 581], [473, 580]]\n",
            "[[431, 580], [452, 580], [462, 581], [473, 580], [494, 581]]\n",
            "[[431, 580], [452, 580], [462, 581], [473, 580], [494, 581], [473, 586]]\n",
            "[[431, 580], [452, 580], [462, 581], [473, 580], [494, 581], [473, 586], [462, 586]]\n",
            "[[431, 580], [452, 580], [462, 581], [473, 580], [494, 581], [473, 586], [462, 586], [451, 585]]\n"
          ]
        }
      ]
    },
    {
      "cell_type": "code",
      "source": [
        "# save in the output file\n",
        "outputNameofImage = \"/content/output/image.jpg\"\n",
        "cv2.imwrite(outputNameofImage, img)\n"
      ],
      "metadata": {
        "colab": {
          "base_uri": "https://localhost:8080/"
        },
        "id": "9HtntsvKLoMM",
        "outputId": "090d9d45-c153-48ba-ec53-fbd6773deb11"
      },
      "execution_count": 13,
      "outputs": [
        {
          "output_type": "execute_result",
          "data": {
            "text/plain": [
              "True"
            ]
          },
          "metadata": {},
          "execution_count": 13
        }
      ]
    }
  ]
}